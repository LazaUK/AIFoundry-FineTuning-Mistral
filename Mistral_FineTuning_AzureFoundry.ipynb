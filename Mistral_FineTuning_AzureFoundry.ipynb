{
 "cells": [
  {
   "cell_type": "markdown",
   "metadata": {},
   "source": [
    "## Fine-tuning Mistral-7b in Azure AI Foundry"
   ]
  },
  {
   "cell_type": "markdown",
   "metadata": {},
   "source": [
    "Before running the cells code, install required Python packages:\n",
    "```\n",
    "pip install azure-identity azure-ai-ml\n",
    "```"
   ]
  },
  {
   "cell_type": "markdown",
   "metadata": {},
   "source": [
    "### Step 1: Configuring Environment"
   ]
  },
  {
   "cell_type": "code",
   "execution_count": null,
   "metadata": {},
   "outputs": [],
   "source": [
    "# Import necessary libraries\n",
    "import os\n",
    "import uuid\n",
    "import requests\n",
    "from azure.ai.ml import MLClient\n",
    "from azure.identity import DefaultAzureCredential, InteractiveBrowserCredential"
   ]
  },
  {
   "cell_type": "code",
   "execution_count": null,
   "metadata": {},
   "outputs": [],
   "source": [
    "\n",
    "# Define constants for the fine-tuning process\n",
    "SUBSCRIPTION_ID = \"<YOUR_AZURE_SUBSCRIPTION_ID>\" # Set this variable's value\n",
    "RESOURCE_GROUP = \"<YOUR_RESOURCE_GROUP>\" # Set this variable's value\n",
    "WORKSPACE_NAME = \"<YOUR_AZUREML_WORKSPACE_NAME>\" # Set this variable's value\n",
    "MANAGED_IDENTITY_OBJECTID = \"<YOUR_MANAGED_IDENTITY_OBJECT_ID>\" # Set this variable's value\n",
    "\n",
    "DISPLAY_NAME = \"MaaP-Mistral-FineTuning-ManagedIdentity\"\n",
    "JOB_NAME = \"maap-mistral-finetuning-\" + str(uuid.uuid4())[:8]\n",
    "EXPERIMENT_NAME = \"MaaP-Mistral-MI-FineTuning-Experiment\"\n",
    "MODEL_NAME = \"azureml://registries/azureml/models/mistralai-Mistral-7B-v01/versions/19\"\n",
    "FT_MODEL_NAME = \"Mistral-7B-v01-Finetune\"\n",
    "TRAINING_DATA = \"training_data\"\n",
    "GPU = \"Standard_NC48ads_A100_v4\"\n",
    "CPU = \"Standard_E4s_v3\"\n",
    "TASK_TYPE = \"TextCompletion\""
   ]
  },
  {
   "cell_type": "code",
   "execution_count": null,
   "metadata": {},
   "outputs": [],
   "source": [
    "# Get training data asset id\n",
    "ml_client = MLClient(\n",
    "    credential=DefaultAzureCredential(),\n",
    "    subscription_id=SUBSCRIPTION_ID,\n",
    "    resource_group_name=RESOURCE_GROUP,\n",
    "    workspace_name=WORKSPACE_NAME,\n",
    ")\n",
    "\n",
    "data_asset = ml_client.data.get(TRAINING_DATA, version=\"1\")\n",
    "ws = ml_client.workspaces.get(WORKSPACE_NAME)\n",
    "data_asset_id = f\"azureml://locations/{ws.location}/workspaces/{ws._workspace_id}/data/{data_asset.name}/versions/{data_asset.version}\""
   ]
  },
  {
   "cell_type": "markdown",
   "metadata": {},
   "source": [
    "### Step 2: Fine-Tuning Target Model"
   ]
  },
  {
   "cell_type": "code",
   "execution_count": null,
   "metadata": {},
   "outputs": [],
   "source": [
    "\n",
    "# Define job payload\n",
    "payload = {\n",
    "    \"properties\": {\n",
    "        \"displayName\": DISPLAY_NAME,\n",
    "        \"experimentName\": EXPERIMENT_NAME,\n",
    "        \"identity\": {\n",
    "            \"identityType\": \"Managed\",\n",
    "            \"objectId\": MANAGED_IDENTITY_OBJECTID\n",
    "        },\n",
    "        \"fineTuningDetails\": {\n",
    "            \"hyperParameters\": {\n",
    "                \"learning_rate\": 5e-6,\n",
    "                \"num_train_epochs\": 1,\n",
    "                \"per_device_train_batch_size\": 1\n",
    "            },\n",
    "            \"model\": {\n",
    "                \"jobInputType\": \"mlflow_model\",\n",
    "                \"mode\": \"ReadOnlyMount\",\n",
    "                \"uri\": MODEL_NAME\n",
    "            },\n",
    "            \"modelProvider\": \"Custom\",\n",
    "            \"taskType\": TASK_TYPE,\n",
    "            \"trainingData\": {\n",
    "                \"jobInputType\": \"uri_file\",\n",
    "                \"mode\": \"ReadOnlyMount\",\n",
    "                \"uri\": data_asset_id\n",
    "            }\n",
    "        },\n",
    "        \"jobType\": \"FineTuning\",\n",
    "        \"outputs\": {\n",
    "            \"registered_model\": {\n",
    "                \"assetname\": FT_MODEL_NAME,\n",
    "                \"jobOutputType\": \"mlflow_model\"\n",
    "            }\n",
    "        },\n",
    "        \"resources\": {\n",
    "            \"instanceTypes\": [\n",
    "                GPU, CPU\n",
    "            ]\n",
    "        }\n",
    "    }\n",
    "}"
   ]
  },
  {
   "cell_type": "code",
   "execution_count": null,
   "metadata": {},
   "outputs": [],
   "source": [
    "# Construct endpoint URL\n",
    "endpoint = (\n",
    "    f\"https://management.azure.com/subscriptions/{SUBSCRIPTION_ID}/resourceGroups/{RESOURCE_GROUP}/\"\n",
    "    f\"providers/Microsoft.MachineLearningServices/workspaces/{WORKSPACE_NAME}/jobs/{JOB_NAME}\"\n",
    "    f\"?api-version=2024-10-01-preview\"\n",
    ")\n"
   ]
  },
  {
   "cell_type": "code",
   "execution_count": null,
   "metadata": {},
   "outputs": [],
   "source": [
    "\n",
    "# Authenticate with Default Azure Credentials, or fallback to Interactive Browser Credentials\n",
    "try:\n",
    "    credential = DefaultAzureCredential()\n",
    "except Exception as ex:\n",
    "    credential = InteractiveBrowserCredential()\n",
    "\n",
    "token = credential.get_token(\"https://management.azure.com/.default\").token\n",
    "ml_token = credential.get_token(\"https://ml.azure.com/.default\").token\n",
    "\n",
    "headers = {\n",
    "    \"Authorization\": f\"Bearer {token}\",\n",
    "    \"x-azureml-token\": f\"{ml_token}\",\n",
    "    \"Content-Type\": \"application/json\"\n",
    "}"
   ]
  },
  {
   "cell_type": "code",
   "execution_count": null,
   "metadata": {},
   "outputs": [],
   "source": [
    "# Submit fine-tuning job\n",
    "response = requests.put(\n",
    "    endpoint,\n",
    "    headers = headers,\n",
    "    json = payload\n",
    ")\n",
    "\n",
    "print(\"Status Code:\", response.status_code)\n",
    "\n",
    "try:\n",
    "    print(\"Response JSON:\", response.json())\n",
    "except Exception:\n",
    "    print(\"Response Text:\", response.text)"
   ]
  }
 ],
 "metadata": {
  "kernelspec": {
   "display_name": "Python 3",
   "language": "python",
   "name": "python3"
  },
  "language_info": {
   "codemirror_mode": {
    "name": "ipython",
    "version": 3
   },
   "file_extension": ".py",
   "mimetype": "text/x-python",
   "name": "python",
   "nbconvert_exporter": "python",
   "pygments_lexer": "ipython3",
   "version": "3.11.9"
  }
 },
 "nbformat": 4,
 "nbformat_minor": 2
}
